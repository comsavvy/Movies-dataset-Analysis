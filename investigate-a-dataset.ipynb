{
 "cells": [
  {
   "cell_type": "markdown",
   "metadata": {},
   "source": [
    "> **Tip**: Welcome to the Investigate a Dataset project! You will find tips in quoted sections like this to help organize your approach to your investigation. Before submitting your project, it will be a good idea to go back through your report and remove these sections to make the presentation of your work as tidy as possible. First things first, you might want to double-click this Markdown cell and change the title so that it reflects your dataset and investigation.\n",
    "\n",
    "# Project: Investigation of The Movies database\n",
    "\n",
    "## Table of Contents\n",
    "<ul>\n",
    "<li><a href=\"#intro\">Introduction</a></li>\n",
    "<li><a href=\"#wrangling\">Data Wrangling</a></li>\n",
    "<li><a href=\"#eda\">Exploratory Data Analysis</a></li>\n",
    "<li><a href=\"#conclusions\">Conclusions</a></li>\n",
    "</ul>"
   ]
  },
  {
   "cell_type": "markdown",
   "metadata": {},
   "source": [
    "<a id='intro'></a>\n",
    "## Introduction\n",
    "\n",
    "> **Tip**: In this section of the report, provide a brief introduction to the dataset you've selected for analysis. At the end of this section, describe the questions that you plan on exploring over the course of the report. Try to build your report around the analysis of at least one dependent variable and three independent variables.\n",
    ">\n",
    "> If you haven't yet selected and downloaded your data, make sure you do that first before coming back here. If you're not sure what questions to ask right now, then make sure you familiarize yourself with the variables and the dataset context for ideas of what to explore."
   ]
  },
  {
   "cell_type": "markdown",
   "metadata": {},
   "source": [
    "## Brief intro of the dataset\n",
    "The dataset used for this analysis is **TMDb movie data** which contains information about 10,000 movies collected from The Movie Database (TMDb), including user ratings and revenue.\n",
    "The details associated to each released movie is provided such as:\n",
    "- The popularity of the movies (popularity)\n",
    "- Budget\n",
    "- Revenue\n",
    "- Title\n",
    "- Casts\n",
    "- Director\n",
    "- Overview\n",
    "- Genres etc.,\n"
   ]
  },
  {
   "cell_type": "markdown",
   "metadata": {},
   "source": [
    "## Analysis on the following questions:\n",
    "- Who is the most popular shooting star within the year range?\n",
    "- Top 10 genres that has most popularity\n",
    "- Which director produce the most popular movie?\n",
    "- Which genres are most popular from year to year?\n",
    "- Does top popular genres correlate with the top popular tags\n",
    "- Does movies with high budget over the year/month\n",
    "- Which key words attract more popularity\n",
    "- Top 10 production companies with highest movie popularity\n",
    "- Movies production inflation over time.\n",
    "- Does particular genres attract more vote count\n",
    "- Which year has the most movie released?\n",
    "- Total runtime of movies with highest popularity\n",
    "- Viewers engagement over the popular genres (vote_count)\n",
    "- What kinds of properties are associated with movies that have high revenues?"
   ]
  },
  {
   "cell_type": "code",
   "execution_count": 1,
   "metadata": {
    "collapsed": true
   },
   "outputs": [],
   "source": [
    "# Use this cell to set up import statements for all of the packages that you\n",
    "#   plan to use.\n",
    "import numpy as np\n",
    "import pandas as pd\n",
    "import matplotlib.pyplot as plt\n",
    "import seaborn as sns\n",
    "# Remember to include a 'magic word' so that your visualizations are plotted\n",
    "#   inline with the notebook. See this page for more:\n",
    "#   http://ipython.readthedocs.io/en/stable/interactive/magics.html\n",
    "\n",
    "%matplotlib inline"
   ]
  },
  {
   "cell_type": "markdown",
   "metadata": {},
   "source": [
    "<a id='wrangling'></a>\n",
    "## Data Wrangling\n",
    "\n",
    "> **Tip**: In this section of the report, you will load in the data, check for cleanliness, and then trim and clean your dataset for analysis. Make sure that you document your steps carefully and justify your cleaning decisions.\n",
    "\n",
    "### General Properties"
   ]
  },
  {
   "cell_type": "code",
   "execution_count": 2,
   "metadata": {
    "collapsed": true
   },
   "outputs": [],
   "source": [
    "# Load your data and print out a few lines. Perform operations to inspect data\n",
    "#   types and look for instances of missing or possibly errant data.\n",
    "\n",
    "df = pd.read_csv('tmdb-movies.csv')"
   ]
  },
  {
   "cell_type": "code",
   "execution_count": 3,
   "metadata": {},
   "outputs": [
    {
     "data": {
      "text/html": [
       "<div>\n",
       "<style scoped>\n",
       "    .dataframe tbody tr th:only-of-type {\n",
       "        vertical-align: middle;\n",
       "    }\n",
       "\n",
       "    .dataframe tbody tr th {\n",
       "        vertical-align: top;\n",
       "    }\n",
       "\n",
       "    .dataframe thead th {\n",
       "        text-align: right;\n",
       "    }\n",
       "</style>\n",
       "<table border=\"1\" class=\"dataframe\">\n",
       "  <thead>\n",
       "    <tr style=\"text-align: right;\">\n",
       "      <th></th>\n",
       "      <th>id</th>\n",
       "      <th>imdb_id</th>\n",
       "      <th>popularity</th>\n",
       "      <th>budget</th>\n",
       "      <th>revenue</th>\n",
       "      <th>original_title</th>\n",
       "      <th>cast</th>\n",
       "      <th>homepage</th>\n",
       "      <th>director</th>\n",
       "      <th>tagline</th>\n",
       "      <th>...</th>\n",
       "      <th>overview</th>\n",
       "      <th>runtime</th>\n",
       "      <th>genres</th>\n",
       "      <th>production_companies</th>\n",
       "      <th>release_date</th>\n",
       "      <th>vote_count</th>\n",
       "      <th>vote_average</th>\n",
       "      <th>release_year</th>\n",
       "      <th>budget_adj</th>\n",
       "      <th>revenue_adj</th>\n",
       "    </tr>\n",
       "  </thead>\n",
       "  <tbody>\n",
       "    <tr>\n",
       "      <th>0</th>\n",
       "      <td>135397</td>\n",
       "      <td>tt0369610</td>\n",
       "      <td>32.985763</td>\n",
       "      <td>150000000</td>\n",
       "      <td>1513528810</td>\n",
       "      <td>Jurassic World</td>\n",
       "      <td>Chris Pratt|Bryce Dallas Howard|Irrfan Khan|Vi...</td>\n",
       "      <td>http://www.jurassicworld.com/</td>\n",
       "      <td>Colin Trevorrow</td>\n",
       "      <td>The park is open.</td>\n",
       "      <td>...</td>\n",
       "      <td>Twenty-two years after the events of Jurassic ...</td>\n",
       "      <td>124</td>\n",
       "      <td>Action|Adventure|Science Fiction|Thriller</td>\n",
       "      <td>Universal Studios|Amblin Entertainment|Legenda...</td>\n",
       "      <td>6/9/15</td>\n",
       "      <td>5562</td>\n",
       "      <td>6.5</td>\n",
       "      <td>2015</td>\n",
       "      <td>1.379999e+08</td>\n",
       "      <td>1.392446e+09</td>\n",
       "    </tr>\n",
       "    <tr>\n",
       "      <th>1</th>\n",
       "      <td>76341</td>\n",
       "      <td>tt1392190</td>\n",
       "      <td>28.419936</td>\n",
       "      <td>150000000</td>\n",
       "      <td>378436354</td>\n",
       "      <td>Mad Max: Fury Road</td>\n",
       "      <td>Tom Hardy|Charlize Theron|Hugh Keays-Byrne|Nic...</td>\n",
       "      <td>http://www.madmaxmovie.com/</td>\n",
       "      <td>George Miller</td>\n",
       "      <td>What a Lovely Day.</td>\n",
       "      <td>...</td>\n",
       "      <td>An apocalyptic story set in the furthest reach...</td>\n",
       "      <td>120</td>\n",
       "      <td>Action|Adventure|Science Fiction|Thriller</td>\n",
       "      <td>Village Roadshow Pictures|Kennedy Miller Produ...</td>\n",
       "      <td>5/13/15</td>\n",
       "      <td>6185</td>\n",
       "      <td>7.1</td>\n",
       "      <td>2015</td>\n",
       "      <td>1.379999e+08</td>\n",
       "      <td>3.481613e+08</td>\n",
       "    </tr>\n",
       "    <tr>\n",
       "      <th>2</th>\n",
       "      <td>262500</td>\n",
       "      <td>tt2908446</td>\n",
       "      <td>13.112507</td>\n",
       "      <td>110000000</td>\n",
       "      <td>295238201</td>\n",
       "      <td>Insurgent</td>\n",
       "      <td>Shailene Woodley|Theo James|Kate Winslet|Ansel...</td>\n",
       "      <td>http://www.thedivergentseries.movie/#insurgent</td>\n",
       "      <td>Robert Schwentke</td>\n",
       "      <td>One Choice Can Destroy You</td>\n",
       "      <td>...</td>\n",
       "      <td>Beatrice Prior must confront her inner demons ...</td>\n",
       "      <td>119</td>\n",
       "      <td>Adventure|Science Fiction|Thriller</td>\n",
       "      <td>Summit Entertainment|Mandeville Films|Red Wago...</td>\n",
       "      <td>3/18/15</td>\n",
       "      <td>2480</td>\n",
       "      <td>6.3</td>\n",
       "      <td>2015</td>\n",
       "      <td>1.012000e+08</td>\n",
       "      <td>2.716190e+08</td>\n",
       "    </tr>\n",
       "    <tr>\n",
       "      <th>3</th>\n",
       "      <td>140607</td>\n",
       "      <td>tt2488496</td>\n",
       "      <td>11.173104</td>\n",
       "      <td>200000000</td>\n",
       "      <td>2068178225</td>\n",
       "      <td>Star Wars: The Force Awakens</td>\n",
       "      <td>Harrison Ford|Mark Hamill|Carrie Fisher|Adam D...</td>\n",
       "      <td>http://www.starwars.com/films/star-wars-episod...</td>\n",
       "      <td>J.J. Abrams</td>\n",
       "      <td>Every generation has a story.</td>\n",
       "      <td>...</td>\n",
       "      <td>Thirty years after defeating the Galactic Empi...</td>\n",
       "      <td>136</td>\n",
       "      <td>Action|Adventure|Science Fiction|Fantasy</td>\n",
       "      <td>Lucasfilm|Truenorth Productions|Bad Robot</td>\n",
       "      <td>12/15/15</td>\n",
       "      <td>5292</td>\n",
       "      <td>7.5</td>\n",
       "      <td>2015</td>\n",
       "      <td>1.839999e+08</td>\n",
       "      <td>1.902723e+09</td>\n",
       "    </tr>\n",
       "    <tr>\n",
       "      <th>4</th>\n",
       "      <td>168259</td>\n",
       "      <td>tt2820852</td>\n",
       "      <td>9.335014</td>\n",
       "      <td>190000000</td>\n",
       "      <td>1506249360</td>\n",
       "      <td>Furious 7</td>\n",
       "      <td>Vin Diesel|Paul Walker|Jason Statham|Michelle ...</td>\n",
       "      <td>http://www.furious7.com/</td>\n",
       "      <td>James Wan</td>\n",
       "      <td>Vengeance Hits Home</td>\n",
       "      <td>...</td>\n",
       "      <td>Deckard Shaw seeks revenge against Dominic Tor...</td>\n",
       "      <td>137</td>\n",
       "      <td>Action|Crime|Thriller</td>\n",
       "      <td>Universal Pictures|Original Film|Media Rights ...</td>\n",
       "      <td>4/1/15</td>\n",
       "      <td>2947</td>\n",
       "      <td>7.3</td>\n",
       "      <td>2015</td>\n",
       "      <td>1.747999e+08</td>\n",
       "      <td>1.385749e+09</td>\n",
       "    </tr>\n",
       "  </tbody>\n",
       "</table>\n",
       "<p>5 rows × 21 columns</p>\n",
       "</div>"
      ],
      "text/plain": [
       "       id    imdb_id  popularity     budget     revenue  \\\n",
       "0  135397  tt0369610   32.985763  150000000  1513528810   \n",
       "1   76341  tt1392190   28.419936  150000000   378436354   \n",
       "2  262500  tt2908446   13.112507  110000000   295238201   \n",
       "3  140607  tt2488496   11.173104  200000000  2068178225   \n",
       "4  168259  tt2820852    9.335014  190000000  1506249360   \n",
       "\n",
       "                 original_title  \\\n",
       "0                Jurassic World   \n",
       "1            Mad Max: Fury Road   \n",
       "2                     Insurgent   \n",
       "3  Star Wars: The Force Awakens   \n",
       "4                     Furious 7   \n",
       "\n",
       "                                                cast  \\\n",
       "0  Chris Pratt|Bryce Dallas Howard|Irrfan Khan|Vi...   \n",
       "1  Tom Hardy|Charlize Theron|Hugh Keays-Byrne|Nic...   \n",
       "2  Shailene Woodley|Theo James|Kate Winslet|Ansel...   \n",
       "3  Harrison Ford|Mark Hamill|Carrie Fisher|Adam D...   \n",
       "4  Vin Diesel|Paul Walker|Jason Statham|Michelle ...   \n",
       "\n",
       "                                            homepage          director  \\\n",
       "0                      http://www.jurassicworld.com/   Colin Trevorrow   \n",
       "1                        http://www.madmaxmovie.com/     George Miller   \n",
       "2     http://www.thedivergentseries.movie/#insurgent  Robert Schwentke   \n",
       "3  http://www.starwars.com/films/star-wars-episod...       J.J. Abrams   \n",
       "4                           http://www.furious7.com/         James Wan   \n",
       "\n",
       "                         tagline  ...  \\\n",
       "0              The park is open.  ...   \n",
       "1             What a Lovely Day.  ...   \n",
       "2     One Choice Can Destroy You  ...   \n",
       "3  Every generation has a story.  ...   \n",
       "4            Vengeance Hits Home  ...   \n",
       "\n",
       "                                            overview runtime  \\\n",
       "0  Twenty-two years after the events of Jurassic ...     124   \n",
       "1  An apocalyptic story set in the furthest reach...     120   \n",
       "2  Beatrice Prior must confront her inner demons ...     119   \n",
       "3  Thirty years after defeating the Galactic Empi...     136   \n",
       "4  Deckard Shaw seeks revenge against Dominic Tor...     137   \n",
       "\n",
       "                                      genres  \\\n",
       "0  Action|Adventure|Science Fiction|Thriller   \n",
       "1  Action|Adventure|Science Fiction|Thriller   \n",
       "2         Adventure|Science Fiction|Thriller   \n",
       "3   Action|Adventure|Science Fiction|Fantasy   \n",
       "4                      Action|Crime|Thriller   \n",
       "\n",
       "                                production_companies release_date vote_count  \\\n",
       "0  Universal Studios|Amblin Entertainment|Legenda...       6/9/15       5562   \n",
       "1  Village Roadshow Pictures|Kennedy Miller Produ...      5/13/15       6185   \n",
       "2  Summit Entertainment|Mandeville Films|Red Wago...      3/18/15       2480   \n",
       "3          Lucasfilm|Truenorth Productions|Bad Robot     12/15/15       5292   \n",
       "4  Universal Pictures|Original Film|Media Rights ...       4/1/15       2947   \n",
       "\n",
       "   vote_average  release_year    budget_adj   revenue_adj  \n",
       "0           6.5          2015  1.379999e+08  1.392446e+09  \n",
       "1           7.1          2015  1.379999e+08  3.481613e+08  \n",
       "2           6.3          2015  1.012000e+08  2.716190e+08  \n",
       "3           7.5          2015  1.839999e+08  1.902723e+09  \n",
       "4           7.3          2015  1.747999e+08  1.385749e+09  \n",
       "\n",
       "[5 rows x 21 columns]"
      ]
     },
     "execution_count": 3,
     "metadata": {},
     "output_type": "execute_result"
    }
   ],
   "source": [
    "# Viewing the top 5 dataset\n",
    "df.head()"
   ]
  },
  {
   "cell_type": "code",
   "execution_count": 4,
   "metadata": {},
   "outputs": [
    {
     "data": {
      "text/plain": [
       "(10866, 21)"
      ]
     },
     "execution_count": 4,
     "metadata": {},
     "output_type": "execute_result"
    }
   ],
   "source": [
    "# Shape of TMDB dataset\n",
    "df.shape"
   ]
  },
  {
   "cell_type": "code",
   "execution_count": 5,
   "metadata": {},
   "outputs": [
    {
     "name": "stdout",
     "output_type": "stream",
     "text": [
      "<class 'pandas.core.frame.DataFrame'>\n",
      "RangeIndex: 10866 entries, 0 to 10865\n",
      "Data columns (total 21 columns):\n",
      " #   Column                Non-Null Count  Dtype  \n",
      "---  ------                --------------  -----  \n",
      " 0   id                    10866 non-null  int64  \n",
      " 1   imdb_id               10856 non-null  object \n",
      " 2   popularity            10866 non-null  float64\n",
      " 3   budget                10866 non-null  int64  \n",
      " 4   revenue               10866 non-null  int64  \n",
      " 5   original_title        10866 non-null  object \n",
      " 6   cast                  10790 non-null  object \n",
      " 7   homepage              2936 non-null   object \n",
      " 8   director              10822 non-null  object \n",
      " 9   tagline               8042 non-null   object \n",
      " 10  keywords              9373 non-null   object \n",
      " 11  overview              10862 non-null  object \n",
      " 12  runtime               10866 non-null  int64  \n",
      " 13  genres                10843 non-null  object \n",
      " 14  production_companies  9836 non-null   object \n",
      " 15  release_date          10866 non-null  object \n",
      " 16  vote_count            10866 non-null  int64  \n",
      " 17  vote_average          10866 non-null  float64\n",
      " 18  release_year          10866 non-null  int64  \n",
      " 19  budget_adj            10866 non-null  float64\n",
      " 20  revenue_adj           10866 non-null  float64\n",
      "dtypes: float64(4), int64(6), object(11)\n",
      "memory usage: 1.7+ MB\n"
     ]
    }
   ],
   "source": [
    "# More information about different features of the dataset\n",
    "df.info()"
   ]
  },
  {
   "cell_type": "code",
   "execution_count": 6,
   "metadata": {},
   "outputs": [
    {
     "data": {
      "text/plain": [
       "id                         0\n",
       "imdb_id                   10\n",
       "popularity                 0\n",
       "budget                     0\n",
       "revenue                    0\n",
       "original_title             0\n",
       "cast                      76\n",
       "homepage                7930\n",
       "director                  44\n",
       "tagline                 2824\n",
       "keywords                1493\n",
       "overview                   4\n",
       "runtime                    0\n",
       "genres                    23\n",
       "production_companies    1030\n",
       "release_date               0\n",
       "vote_count                 0\n",
       "vote_average               0\n",
       "release_year               0\n",
       "budget_adj                 0\n",
       "revenue_adj                0\n",
       "dtype: int64"
      ]
     },
     "execution_count": 6,
     "metadata": {},
     "output_type": "execute_result"
    }
   ],
   "source": [
    "# Number of N/A in each feature of the dataset\n",
    "df.isna().sum()"
   ]
  },
  {
   "cell_type": "markdown",
   "metadata": {},
   "source": [
    "Number of N/A in each feature of the dataset"
   ]
  },
  {
   "cell_type": "code",
   "execution_count": 7,
   "metadata": {},
   "outputs": [
    {
     "data": {
      "text/plain": [
       "id                         0\n",
       "imdb_id                   10\n",
       "popularity                 0\n",
       "budget                     0\n",
       "revenue                    0\n",
       "original_title             0\n",
       "cast                      76\n",
       "homepage                7930\n",
       "director                  44\n",
       "tagline                 2824\n",
       "keywords                1493\n",
       "overview                   4\n",
       "runtime                    0\n",
       "genres                    23\n",
       "production_companies    1030\n",
       "release_date               0\n",
       "vote_count                 0\n",
       "vote_average               0\n",
       "release_year               0\n",
       "budget_adj                 0\n",
       "revenue_adj                0\n",
       "dtype: int64"
      ]
     },
     "execution_count": 7,
     "metadata": {},
     "output_type": "execute_result"
    }
   ],
   "source": [
    "df.isna().sum()"
   ]
  },
  {
   "cell_type": "code",
   "execution_count": 8,
   "metadata": {},
   "outputs": [
    {
     "data": {
      "text/plain": [
       "False    12\n",
       "True      9\n",
       "dtype: int64"
      ]
     },
     "execution_count": 8,
     "metadata": {},
     "output_type": "execute_result"
    }
   ],
   "source": [
    "# Number of columns with N/A\n",
    "df.isna().any().value_counts()"
   ]
  },
  {
   "cell_type": "markdown",
   "metadata": {},
   "source": [
    "It is noticeable that 9 features from TMDB dataset has more than 1 blank rows"
   ]
  },
  {
   "cell_type": "markdown",
   "metadata": {},
   "source": [
    "> **Tip**: You should _not_ perform too many operations in each cell. Create cells freely to explore your data. One option that you can take with this project is to do a lot of explorations in an initial notebook. These don't have to be organized, but make sure you use enough comments to understand the purpose of each code cell. Then, after you're done with your analysis, create a duplicate notebook where you will trim the excess and organize your steps so that you have a flowing, cohesive report.\n",
    "\n",
    "> **Tip**: Make sure that you keep your reader informed on the steps that you are taking in your investigation. Follow every code cell, or every set of related code cells, with a markdown cell to describe to the reader what was found in the preceding cell(s). Try to make it so that the reader can then understand what they will be seeing in the following cell(s).\n",
    "\n",
    "### Data Cleaning of TMDB dataset"
   ]
  },
  {
   "cell_type": "markdown",
   "metadata": {},
   "source": [
    "- Since `id` and `imdb_id` serve as unique identifier of different movies, it is safe to drop the columns as we will be analyzing the movies.\n",
    "\n",
    "- `homepage` and `overview` columns refer to where the movies can be found and the main summary of the movie and this can be disregarded for the analysis.\n",
    "\n",
    "It is safe to remove the following rows with N/A in the dataframe:\n",
    "- Cast (76) i.e., This indicates that nobody acted in the movie.\n",
    "- Director (44) i.e., This indicates that nobody coordinate the movie.\n",
    "- Genres (23) i.e., It doesn't belongs to any movie genre.\n",
    "- Production company i.e., This indicates that no company produces the movies."
   ]
  },
  {
   "cell_type": "code",
   "execution_count": 9,
   "metadata": {
    "collapsed": true
   },
   "outputs": [],
   "source": [
    "# After discussing the structure of the data and any problems that need to be\n",
    "#   cleaned, perform those cleaning steps in the second part of this section.\n"
   ]
  },
  {
   "cell_type": "markdown",
   "metadata": {},
   "source": [
    "Dropping unnecessary columns for the analysis"
   ]
  },
  {
   "cell_type": "code",
   "execution_count": 10,
   "metadata": {},
   "outputs": [],
   "source": [
    "df.drop(columns=['id', 'imdb_id', 'homepage', 'overview'], inplace=True)"
   ]
  },
  {
   "cell_type": "markdown",
   "metadata": {},
   "source": [
    "Changing `release_date` to datetime object and also setting it as index"
   ]
  },
  {
   "cell_type": "code",
   "execution_count": 11,
   "metadata": {},
   "outputs": [],
   "source": [
    "df['release_date'] = pd.to_datetime(df['release_date'])\n",
    "\n",
    "df.set_index('release_date', inplace=True)\n",
    "\n",
    "df.sort_index(inplace=True) # Sorting the dataframe ascending base on the release_date"
   ]
  },
  {
   "cell_type": "markdown",
   "metadata": {},
   "source": [
    "It is safe to disregard movies without a production company"
   ]
  },
  {
   "cell_type": "code",
   "execution_count": 12,
   "metadata": {},
   "outputs": [],
   "source": [
    "df.dropna(subset=['cast', 'director', 'genres', 'production_companies'], inplace=True)"
   ]
  },
  {
   "cell_type": "markdown",
   "metadata": {},
   "source": [
    "Changing the following columns into a Python list\n",
    "- cast\n",
    "- genres\n",
    "- production_companies\n",
    "\n",
    "The string provided in the dataframe is separated with `|`. By change these features to list, each values will be easily accessible."
   ]
  },
  {
   "cell_type": "code",
   "execution_count": 13,
   "metadata": {},
   "outputs": [],
   "source": [
    "def change_to_list(dataframe, columns: list, sep: str ='|')->None:\n",
    "    \"\"\"\n",
    "        change_to_list(dataframe, columns)\n",
    "\n",
    "        The columns provided will be split base on sep which is default to |.\n",
    "        And also the dataframe will be changed inplace. \n",
    "    \"\"\"\n",
    "    for column in columns:\n",
    "        try:\n",
    "            dataframe[column] = dataframe[column].str.split(sep)\n",
    "        except KeyError:\n",
    "            print(f'{column} not found in the dataset')"
   ]
  },
  {
   "cell_type": "code",
   "execution_count": 14,
   "metadata": {},
   "outputs": [],
   "source": [
    "change_to_list(df, ['cast', 'genres', 'director', 'keywords', 'production_companies'])"
   ]
  },
  {
   "cell_type": "markdown",
   "metadata": {},
   "source": [
    "Top 5 rows of the dataframe after modification"
   ]
  },
  {
   "cell_type": "code",
   "execution_count": 15,
   "metadata": {},
   "outputs": [
    {
     "data": {
      "text/html": [
       "<div>\n",
       "<style scoped>\n",
       "    .dataframe tbody tr th:only-of-type {\n",
       "        vertical-align: middle;\n",
       "    }\n",
       "\n",
       "    .dataframe tbody tr th {\n",
       "        vertical-align: top;\n",
       "    }\n",
       "\n",
       "    .dataframe thead th {\n",
       "        text-align: right;\n",
       "    }\n",
       "</style>\n",
       "<table border=\"1\" class=\"dataframe\">\n",
       "  <thead>\n",
       "    <tr style=\"text-align: right;\">\n",
       "      <th></th>\n",
       "      <th>popularity</th>\n",
       "      <th>budget</th>\n",
       "      <th>revenue</th>\n",
       "      <th>original_title</th>\n",
       "      <th>cast</th>\n",
       "      <th>director</th>\n",
       "      <th>tagline</th>\n",
       "      <th>keywords</th>\n",
       "      <th>runtime</th>\n",
       "      <th>genres</th>\n",
       "      <th>production_companies</th>\n",
       "      <th>vote_count</th>\n",
       "      <th>vote_average</th>\n",
       "      <th>release_year</th>\n",
       "      <th>budget_adj</th>\n",
       "      <th>revenue_adj</th>\n",
       "    </tr>\n",
       "    <tr>\n",
       "      <th>release_date</th>\n",
       "      <th></th>\n",
       "      <th></th>\n",
       "      <th></th>\n",
       "      <th></th>\n",
       "      <th></th>\n",
       "      <th></th>\n",
       "      <th></th>\n",
       "      <th></th>\n",
       "      <th></th>\n",
       "      <th></th>\n",
       "      <th></th>\n",
       "      <th></th>\n",
       "      <th></th>\n",
       "      <th></th>\n",
       "      <th></th>\n",
       "      <th></th>\n",
       "    </tr>\n",
       "  </thead>\n",
       "  <tbody>\n",
       "    <tr>\n",
       "      <th>1972-01-01</th>\n",
       "      <td>0.384193</td>\n",
       "      <td>90000</td>\n",
       "      <td>0</td>\n",
       "      <td>The Last House on the Left</td>\n",
       "      <td>[Sandra Peabody, Lucy Grantham, David Hess, Fr...</td>\n",
       "      <td>[Wes Craven]</td>\n",
       "      <td>It rests on 13 acres of earth over the very ce...</td>\n",
       "      <td>[rape, gun, birthday, concert, death of a child]</td>\n",
       "      <td>84</td>\n",
       "      <td>[Horror, Thriller]</td>\n",
       "      <td>[Lobster Enterprises, Sean S. Cunningham Films...</td>\n",
       "      <td>46</td>\n",
       "      <td>6.1</td>\n",
       "      <td>1972</td>\n",
       "      <td>4.693105e+05</td>\n",
       "      <td>0.000000e+00</td>\n",
       "    </tr>\n",
       "    <tr>\n",
       "      <th>1972-01-01</th>\n",
       "      <td>0.338541</td>\n",
       "      <td>0</td>\n",
       "      <td>0</td>\n",
       "      <td>Chato's Land</td>\n",
       "      <td>[Charles Bronson, Jack Palance, James Whitmore...</td>\n",
       "      <td>[Michael Winner]</td>\n",
       "      <td>What Chato's land doesn't kill, Chato will.</td>\n",
       "      <td>[rape, posse, dead horse, canteen, carcass]</td>\n",
       "      <td>110</td>\n",
       "      <td>[Action, Adventure, Western]</td>\n",
       "      <td>[Scimitar Films]</td>\n",
       "      <td>15</td>\n",
       "      <td>6.6</td>\n",
       "      <td>1972</td>\n",
       "      <td>0.000000e+00</td>\n",
       "      <td>0.000000e+00</td>\n",
       "    </tr>\n",
       "    <tr>\n",
       "      <th>1972-01-13</th>\n",
       "      <td>0.265891</td>\n",
       "      <td>0</td>\n",
       "      <td>7500000</td>\n",
       "      <td>The Cowboys</td>\n",
       "      <td>[John Wayne, Roscoe Lee Browne, Bruce Dern, Co...</td>\n",
       "      <td>[Mark Rydell]</td>\n",
       "      <td>All they wanted was their chance to be men...a...</td>\n",
       "      <td>[boy, beef, cattle drive, rancher, cattle]</td>\n",
       "      <td>131</td>\n",
       "      <td>[Action, Adventure, Drama, Western]</td>\n",
       "      <td>[Warner Bros.]</td>\n",
       "      <td>30</td>\n",
       "      <td>6.6</td>\n",
       "      <td>1972</td>\n",
       "      <td>0.000000e+00</td>\n",
       "      <td>3.910921e+07</td>\n",
       "    </tr>\n",
       "    <tr>\n",
       "      <th>1972-02-13</th>\n",
       "      <td>0.669045</td>\n",
       "      <td>6000000</td>\n",
       "      <td>0</td>\n",
       "      <td>Cabaret</td>\n",
       "      <td>[Liza Minnelli, Michael York, Helmut Griem, Jo...</td>\n",
       "      <td>[Bob Fosse]</td>\n",
       "      <td>Life is a Cabaret</td>\n",
       "      <td>[berlin, sex, entertainer, cabaret, gramophone]</td>\n",
       "      <td>124</td>\n",
       "      <td>[Drama, Music, Romance]</td>\n",
       "      <td>[ABC Pictures, Bavaria Film, Allied Artists Pi...</td>\n",
       "      <td>76</td>\n",
       "      <td>6.9</td>\n",
       "      <td>1972</td>\n",
       "      <td>3.128737e+07</td>\n",
       "      <td>0.000000e+00</td>\n",
       "    </tr>\n",
       "    <tr>\n",
       "      <th>1972-03-09</th>\n",
       "      <td>0.450264</td>\n",
       "      <td>1000000</td>\n",
       "      <td>0</td>\n",
       "      <td>Silent Running</td>\n",
       "      <td>[Bruce Dern, Cliff Potts, Ron Rifkin, Jesse Vi...</td>\n",
       "      <td>[Douglas Trumbull]</td>\n",
       "      <td>Amazing companions on an incredible journey......</td>\n",
       "      <td>[space marine, sunlight, plants, space travel,...</td>\n",
       "      <td>89</td>\n",
       "      <td>[Adventure, Drama, Science Fiction]</td>\n",
       "      <td>[Universal Pictures, Trumbull/Gruskoff Product...</td>\n",
       "      <td>69</td>\n",
       "      <td>6.1</td>\n",
       "      <td>1972</td>\n",
       "      <td>5.214561e+06</td>\n",
       "      <td>0.000000e+00</td>\n",
       "    </tr>\n",
       "  </tbody>\n",
       "</table>\n",
       "</div>"
      ],
      "text/plain": [
       "              popularity   budget  revenue              original_title  \\\n",
       "release_date                                                             \n",
       "1972-01-01      0.384193    90000        0  The Last House on the Left   \n",
       "1972-01-01      0.338541        0        0                Chato's Land   \n",
       "1972-01-13      0.265891        0  7500000                 The Cowboys   \n",
       "1972-02-13      0.669045  6000000        0                     Cabaret   \n",
       "1972-03-09      0.450264  1000000        0              Silent Running   \n",
       "\n",
       "                                                           cast  \\\n",
       "release_date                                                      \n",
       "1972-01-01    [Sandra Peabody, Lucy Grantham, David Hess, Fr...   \n",
       "1972-01-01    [Charles Bronson, Jack Palance, James Whitmore...   \n",
       "1972-01-13    [John Wayne, Roscoe Lee Browne, Bruce Dern, Co...   \n",
       "1972-02-13    [Liza Minnelli, Michael York, Helmut Griem, Jo...   \n",
       "1972-03-09    [Bruce Dern, Cliff Potts, Ron Rifkin, Jesse Vi...   \n",
       "\n",
       "                        director  \\\n",
       "release_date                       \n",
       "1972-01-01          [Wes Craven]   \n",
       "1972-01-01      [Michael Winner]   \n",
       "1972-01-13         [Mark Rydell]   \n",
       "1972-02-13           [Bob Fosse]   \n",
       "1972-03-09    [Douglas Trumbull]   \n",
       "\n",
       "                                                        tagline  \\\n",
       "release_date                                                      \n",
       "1972-01-01    It rests on 13 acres of earth over the very ce...   \n",
       "1972-01-01          What Chato's land doesn't kill, Chato will.   \n",
       "1972-01-13    All they wanted was their chance to be men...a...   \n",
       "1972-02-13                                    Life is a Cabaret   \n",
       "1972-03-09    Amazing companions on an incredible journey......   \n",
       "\n",
       "                                                       keywords  runtime  \\\n",
       "release_date                                                               \n",
       "1972-01-01     [rape, gun, birthday, concert, death of a child]       84   \n",
       "1972-01-01          [rape, posse, dead horse, canteen, carcass]      110   \n",
       "1972-01-13           [boy, beef, cattle drive, rancher, cattle]      131   \n",
       "1972-02-13      [berlin, sex, entertainer, cabaret, gramophone]      124   \n",
       "1972-03-09    [space marine, sunlight, plants, space travel,...       89   \n",
       "\n",
       "                                           genres  \\\n",
       "release_date                                        \n",
       "1972-01-01                     [Horror, Thriller]   \n",
       "1972-01-01           [Action, Adventure, Western]   \n",
       "1972-01-13    [Action, Adventure, Drama, Western]   \n",
       "1972-02-13                [Drama, Music, Romance]   \n",
       "1972-03-09    [Adventure, Drama, Science Fiction]   \n",
       "\n",
       "                                           production_companies  vote_count  \\\n",
       "release_date                                                                  \n",
       "1972-01-01    [Lobster Enterprises, Sean S. Cunningham Films...          46   \n",
       "1972-01-01                                     [Scimitar Films]          15   \n",
       "1972-01-13                                       [Warner Bros.]          30   \n",
       "1972-02-13    [ABC Pictures, Bavaria Film, Allied Artists Pi...          76   \n",
       "1972-03-09    [Universal Pictures, Trumbull/Gruskoff Product...          69   \n",
       "\n",
       "              vote_average  release_year    budget_adj   revenue_adj  \n",
       "release_date                                                          \n",
       "1972-01-01             6.1          1972  4.693105e+05  0.000000e+00  \n",
       "1972-01-01             6.6          1972  0.000000e+00  0.000000e+00  \n",
       "1972-01-13             6.6          1972  0.000000e+00  3.910921e+07  \n",
       "1972-02-13             6.9          1972  3.128737e+07  0.000000e+00  \n",
       "1972-03-09             6.1          1972  5.214561e+06  0.000000e+00  "
      ]
     },
     "execution_count": 15,
     "metadata": {},
     "output_type": "execute_result"
    }
   ],
   "source": [
    "df.head()"
   ]
  },
  {
   "cell_type": "markdown",
   "metadata": {},
   "source": [
    "Information after cleaning the dataset"
   ]
  },
  {
   "cell_type": "code",
   "execution_count": 16,
   "metadata": {},
   "outputs": [
    {
     "name": "stdout",
     "output_type": "stream",
     "text": [
      "<class 'pandas.core.frame.DataFrame'>\n",
      "DatetimeIndex: 9773 entries, 1972-01-01 to 2071-12-29\n",
      "Data columns (total 16 columns):\n",
      " #   Column                Non-Null Count  Dtype  \n",
      "---  ------                --------------  -----  \n",
      " 0   popularity            9773 non-null   float64\n",
      " 1   budget                9773 non-null   int64  \n",
      " 2   revenue               9773 non-null   int64  \n",
      " 3   original_title        9773 non-null   object \n",
      " 4   cast                  9773 non-null   object \n",
      " 5   director              9773 non-null   object \n",
      " 6   tagline               7636 non-null   object \n",
      " 7   keywords              8667 non-null   object \n",
      " 8   runtime               9773 non-null   int64  \n",
      " 9   genres                9773 non-null   object \n",
      " 10  production_companies  9773 non-null   object \n",
      " 11  vote_count            9773 non-null   int64  \n",
      " 12  vote_average          9773 non-null   float64\n",
      " 13  release_year          9773 non-null   int64  \n",
      " 14  budget_adj            9773 non-null   float64\n",
      " 15  revenue_adj           9773 non-null   float64\n",
      "dtypes: float64(4), int64(5), object(7)\n",
      "memory usage: 1.3+ MB\n"
     ]
    }
   ],
   "source": [
    "df.info()"
   ]
  },
  {
   "cell_type": "markdown",
   "metadata": {},
   "source": [
    "Dataset shape after cleaning"
   ]
  },
  {
   "cell_type": "code",
   "execution_count": 17,
   "metadata": {},
   "outputs": [
    {
     "data": {
      "text/plain": [
       "(9773, 16)"
      ]
     },
     "execution_count": 17,
     "metadata": {},
     "output_type": "execute_result"
    }
   ],
   "source": [
    "df.shape"
   ]
  },
  {
   "cell_type": "markdown",
   "metadata": {},
   "source": [
    "<a id='eda'></a>\n",
    "## Exploratory Data Analysis\n",
    "\n",
    "> **Tip**: Now that you've trimmed and cleaned your data, you're ready to move on to exploration. Compute statistics and create visualizations with the goal of addressing the research questions that you posed in the Introduction section. It is recommended that you be systematic with your approach. Look at one variable at a time, and then follow it up by looking at relationships between variables.\n",
    "\n",
    "### Research Question 1\n",
    "- Who is the most popular shooting star within the year range?"
   ]
  },
  {
   "cell_type": "code",
   "execution_count": 18,
   "metadata": {},
   "outputs": [],
   "source": [
    "from collections import Counter\n",
    "\n",
    "\n",
    "def value_occurences(data: pd.DataFrame, column: str, most_common:int =5)->pd.DataFrame:\n",
    "    \"\"\"\n",
    "        The function will return a dataframe which contains the most common yearly column count in the dataset.\n",
    "        \n",
    "    \"\"\"\n",
    "    \n",
    "    f_data = pd.DataFrame(columns=['Year', column.title(), 'Count'])\n",
    "    years = data['release_year'].unique()\n",
    "\n",
    "    for year in years:\n",
    "        yearlyfeaturecount = Counter() # This will keep count of the yearly data count\n",
    "        rows = data.query(f'release_year == {year}')[column] # Particular year data\n",
    "        for row in rows:\n",
    "            yearlyfeaturecount.update(row) # Updating the count of each value\n",
    "\n",
    "        # Temporary variable to hold the current year value count\n",
    "        temp_df = pd.DataFrame(columns=[column.title(), 'Count'], \n",
    "                            data=yearlyfeaturecount.most_common(most_common))\n",
    "        temp_df['Year'] = np.repeat(year, most_common)\n",
    "\n",
    "        # Concatenate temp_df with the f_data (Final dataframe)\n",
    "        f_data = pd.concat([f_data, temp_df], ignore_index=True)\n",
    "    return f_data"
   ]
  },
  {
   "cell_type": "markdown",
   "metadata": {},
   "source": [
    "The top 2 most used actors yearly"
   ]
  },
  {
   "cell_type": "code",
   "execution_count": 19,
   "metadata": {},
   "outputs": [],
   "source": [
    "most_popular_shooting_star = value_occurences(df, 'cast', most_common=2)"
   ]
  },
  {
   "cell_type": "code",
   "execution_count": 20,
   "metadata": {},
   "outputs": [
    {
     "data": {
      "text/html": [
       "<div>\n",
       "<style scoped>\n",
       "    .dataframe tbody tr th:only-of-type {\n",
       "        vertical-align: middle;\n",
       "    }\n",
       "\n",
       "    .dataframe tbody tr th {\n",
       "        vertical-align: top;\n",
       "    }\n",
       "\n",
       "    .dataframe thead th {\n",
       "        text-align: right;\n",
       "    }\n",
       "</style>\n",
       "<table border=\"1\" class=\"dataframe\">\n",
       "  <thead>\n",
       "    <tr style=\"text-align: right;\">\n",
       "      <th></th>\n",
       "      <th>Year</th>\n",
       "      <th>Cast</th>\n",
       "      <th>Count</th>\n",
       "    </tr>\n",
       "  </thead>\n",
       "  <tbody>\n",
       "    <tr>\n",
       "      <th>0</th>\n",
       "      <td>1972</td>\n",
       "      <td>Peter Cushing</td>\n",
       "      <td>4</td>\n",
       "    </tr>\n",
       "    <tr>\n",
       "      <th>1</th>\n",
       "      <td>1972</td>\n",
       "      <td>Charles Bronson</td>\n",
       "      <td>2</td>\n",
       "    </tr>\n",
       "    <tr>\n",
       "      <th>2</th>\n",
       "      <td>1973</td>\n",
       "      <td>Mitchell Ryan</td>\n",
       "      <td>3</td>\n",
       "    </tr>\n",
       "    <tr>\n",
       "      <th>3</th>\n",
       "      <td>1973</td>\n",
       "      <td>Marianna Hill</td>\n",
       "      <td>2</td>\n",
       "    </tr>\n",
       "    <tr>\n",
       "      <th>4</th>\n",
       "      <td>1974</td>\n",
       "      <td>Charlotte Rampling</td>\n",
       "      <td>2</td>\n",
       "    </tr>\n",
       "    <tr>\n",
       "      <th>5</th>\n",
       "      <td>1974</td>\n",
       "      <td>Gene Wilder</td>\n",
       "      <td>2</td>\n",
       "    </tr>\n",
       "    <tr>\n",
       "      <th>6</th>\n",
       "      <td>1975</td>\n",
       "      <td>Jack Nicholson</td>\n",
       "      <td>2</td>\n",
       "    </tr>\n",
       "    <tr>\n",
       "      <th>7</th>\n",
       "      <td>1975</td>\n",
       "      <td>Karen Black</td>\n",
       "      <td>2</td>\n",
       "    </tr>\n",
       "    <tr>\n",
       "      <th>8</th>\n",
       "      <td>1976</td>\n",
       "      <td>Jodie Foster</td>\n",
       "      <td>4</td>\n",
       "    </tr>\n",
       "    <tr>\n",
       "      <th>9</th>\n",
       "      <td>1976</td>\n",
       "      <td>Richard Harris</td>\n",
       "      <td>2</td>\n",
       "    </tr>\n",
       "  </tbody>\n",
       "</table>\n",
       "</div>"
      ],
      "text/plain": [
       "   Year                Cast Count\n",
       "0  1972       Peter Cushing     4\n",
       "1  1972     Charles Bronson     2\n",
       "2  1973       Mitchell Ryan     3\n",
       "3  1973       Marianna Hill     2\n",
       "4  1974  Charlotte Rampling     2\n",
       "5  1974         Gene Wilder     2\n",
       "6  1975      Jack Nicholson     2\n",
       "7  1975         Karen Black     2\n",
       "8  1976        Jodie Foster     4\n",
       "9  1976      Richard Harris     2"
      ]
     },
     "execution_count": 20,
     "metadata": {},
     "output_type": "execute_result"
    }
   ],
   "source": [
    "# Top 10 data from the most_popular_shoting_star dataframe\n",
    "most_popular_shooting_star.head(10)"
   ]
  },
  {
   "cell_type": "code",
   "execution_count": 21,
   "metadata": {},
   "outputs": [
    {
     "data": {
      "text/html": [
       "<div>\n",
       "<style scoped>\n",
       "    .dataframe tbody tr th:only-of-type {\n",
       "        vertical-align: middle;\n",
       "    }\n",
       "\n",
       "    .dataframe tbody tr th {\n",
       "        vertical-align: top;\n",
       "    }\n",
       "\n",
       "    .dataframe thead th {\n",
       "        text-align: right;\n",
       "    }\n",
       "</style>\n",
       "<table border=\"1\" class=\"dataframe\">\n",
       "  <thead>\n",
       "    <tr style=\"text-align: right;\">\n",
       "      <th></th>\n",
       "      <th>Year</th>\n",
       "      <th>Cast</th>\n",
       "      <th>Count</th>\n",
       "    </tr>\n",
       "  </thead>\n",
       "  <tbody>\n",
       "    <tr>\n",
       "      <th>78</th>\n",
       "      <td>2011</td>\n",
       "      <td>Nicolas Cage</td>\n",
       "      <td>5</td>\n",
       "    </tr>\n",
       "    <tr>\n",
       "      <th>79</th>\n",
       "      <td>2011</td>\n",
       "      <td>Bill Nighy</td>\n",
       "      <td>5</td>\n",
       "    </tr>\n",
       "    <tr>\n",
       "      <th>80</th>\n",
       "      <td>2012</td>\n",
       "      <td>Elizabeth Banks</td>\n",
       "      <td>6</td>\n",
       "    </tr>\n",
       "    <tr>\n",
       "      <th>81</th>\n",
       "      <td>2012</td>\n",
       "      <td>Bruce Willis</td>\n",
       "      <td>6</td>\n",
       "    </tr>\n",
       "    <tr>\n",
       "      <th>82</th>\n",
       "      <td>2013</td>\n",
       "      <td>James Franco</td>\n",
       "      <td>10</td>\n",
       "    </tr>\n",
       "    <tr>\n",
       "      <th>83</th>\n",
       "      <td>2013</td>\n",
       "      <td>Danny Trejo</td>\n",
       "      <td>6</td>\n",
       "    </tr>\n",
       "    <tr>\n",
       "      <th>84</th>\n",
       "      <td>2014</td>\n",
       "      <td>Liam Neeson</td>\n",
       "      <td>7</td>\n",
       "    </tr>\n",
       "    <tr>\n",
       "      <th>85</th>\n",
       "      <td>2014</td>\n",
       "      <td>Jessica Chastain</td>\n",
       "      <td>7</td>\n",
       "    </tr>\n",
       "    <tr>\n",
       "      <th>86</th>\n",
       "      <td>2015</td>\n",
       "      <td>Ben Kingsley</td>\n",
       "      <td>6</td>\n",
       "    </tr>\n",
       "    <tr>\n",
       "      <th>87</th>\n",
       "      <td>2015</td>\n",
       "      <td>James Franco</td>\n",
       "      <td>6</td>\n",
       "    </tr>\n",
       "  </tbody>\n",
       "</table>\n",
       "</div>"
      ],
      "text/plain": [
       "    Year              Cast Count\n",
       "78  2011      Nicolas Cage     5\n",
       "79  2011        Bill Nighy     5\n",
       "80  2012   Elizabeth Banks     6\n",
       "81  2012      Bruce Willis     6\n",
       "82  2013      James Franco    10\n",
       "83  2013       Danny Trejo     6\n",
       "84  2014       Liam Neeson     7\n",
       "85  2014  Jessica Chastain     7\n",
       "86  2015      Ben Kingsley     6\n",
       "87  2015      James Franco     6"
      ]
     },
     "execution_count": 21,
     "metadata": {},
     "output_type": "execute_result"
    }
   ],
   "source": [
    "# Top 2 most used actors from the year 2000 above\n",
    "most_popular_shooting_star.query('Year >= 2000').tail(10)"
   ]
  },
  {
   "cell_type": "markdown",
   "metadata": {},
   "source": [
    "Report:"
   ]
  },
  {
   "cell_type": "code",
   "execution_count": null,
   "metadata": {},
   "outputs": [],
   "source": []
  },
  {
   "cell_type": "markdown",
   "metadata": {},
   "source": [
    "### Research Question 2  \n",
    "- Top 10 genres that has the most movies tag\n",
    "- 10 Genres with lowest movies tag"
   ]
  },
  {
   "cell_type": "code",
   "execution_count": 22,
   "metadata": {},
   "outputs": [],
   "source": [
    "def counter(data, column):\n",
    "    \"\"\"\n",
    "        This function will return a dataframe containing the value counts of the specified column which contains list in the data.\n",
    "\n",
    "    \"\"\"\n",
    "    featurecount = Counter() # This will keep count of data count\n",
    "    for row in data[column]:\n",
    "        featurecount.update(row)\n",
    "    f_data = pd.DataFrame(columns=[column.title(), 'Count'], data=featurecount.most_common())\n",
    "    \n",
    "    return f_data"
   ]
  },
  {
   "cell_type": "code",
   "execution_count": 23,
   "metadata": {},
   "outputs": [],
   "source": [
    "genres_count = counter(df, 'genres').sort_values('Count', ascending=False)"
   ]
  },
  {
   "cell_type": "code",
   "execution_count": 24,
   "metadata": {},
   "outputs": [],
   "source": [
    "# Top 10 Genres with most popularity\n",
    "top10_genres = genres_count.head(10)"
   ]
  },
  {
   "cell_type": "code",
   "execution_count": 25,
   "metadata": {},
   "outputs": [],
   "source": [
    "def genre_count_visual(x, y, title):\n",
    "    \"\"\"\n",
    "        Bar plot of genre's count\n",
    "        \n",
    "    \"\"\"\n",
    "    plt.figure(figsize=(12, 9)) # Figure size\n",
    "    plt.bar(x, y) # The plot\n",
    "    plt.title(title) # The plot title\n",
    "    plt.xlabel('Genres')\n",
    "    plt.ylabel('Count');"
   ]
  },
  {
   "cell_type": "code",
   "execution_count": 26,
   "metadata": {},
   "outputs": [
    {
     "data": {
      "image/png": "[encoded data removed]",
      "text/plain": [
       "<Figure size 864x648 with 1 Axes>"
      ]
     },
     "metadata": {
      "needs_background": "light"
     },
     "output_type": "display_data"
    }
   ],
   "source": [
    "genre_count_visual(top10_genres['Genres'], \n",
    "                    top10_genres['Count'], \n",
    "                    'Top 10 Genres with highest movies tag')"
   ]
  },
  {
   "cell_type": "code",
   "execution_count": 27,
   "metadata": {},
   "outputs": [],
   "source": [
    "# 10 Genres with lowest movies tag\n",
    "last10_Genres = genres_count.tail(10) "
   ]
  },
  {
   "cell_type": "code",
   "execution_count": 28,
   "metadata": {},
   "outputs": [
    {
     "data": {
      "image/png": "[encoded data removed]",
      "text/plain": [
       "<Figure size 864x648 with 1 Axes>"
      ]
     },
     "metadata": {
      "needs_background": "light"
     },
     "output_type": "display_data"
    }
   ],
   "source": [
    "genre_count_visual(last10_Genres['Genres'], \n",
    "                    last10_Genres['Count'], \n",
    "                    '10 Genres with lowest movies tag')"
   ]
  },
  {
   "cell_type": "markdown",
   "metadata": {},
   "source": [
    "Report:"
   ]
  },
  {
   "cell_type": "markdown",
   "metadata": {},
   "source": [
    "### Research Question 3\n",
    "- Which director produces the top 10 most popular movie?"
   ]
  },
  {
   "cell_type": "code",
   "execution_count": 115,
   "metadata": {},
   "outputs": [],
   "source": [
    "def spilldown(column: str, include: str ='popularity'):\n",
    "    \"\"\"\n",
    "        This function will spill the specified column which contains list in the dataframe downnward.\n",
    "\n",
    "        If include is set to None, the function will return a dataframe with spilled column without popularity.\n",
    "\n",
    "        include attribute can be modified to use other feature in the spilled dataframe\n",
    "    \"\"\"\n",
    "    if include:\n",
    "        filldown = df[[column, include]].explode(column)\n",
    "        return filldown.groupby(column)[include]\\\n",
    "                        .mean()\\\n",
    "                        .sort_values(ascending=False)\n",
    "    else:\n",
    "        return df[[column]].explode(column)"
   ]
  },
  {
   "cell_type": "code",
   "execution_count": 102,
   "metadata": {},
   "outputs": [
    {
     "data": {
      "text/plain": [
       "director\n",
       "Colin Trevorrow       16.696886\n",
       "David Leitch          11.422751\n",
       "Chad Stahelski        11.422751\n",
       "Alan Taylor            6.883129\n",
       "Christopher Nolan      6.865185\n",
       "Alex Garland           6.118847\n",
       "Patrick Tatopoulos     5.806897\n",
       "Wes Ball               5.553082\n",
       "Dan Gilroy             5.522641\n",
       "David Yates            5.126634\n",
       "Name: popularity, dtype: float64"
      ]
     },
     "execution_count": 102,
     "metadata": {},
     "output_type": "execute_result"
    }
   ],
   "source": [
    "director_pop = spilldown('director')\n",
    "\n",
    "director_pop.head(10)"
   ]
  },
  {
   "cell_type": "markdown",
   "metadata": {},
   "source": [
    "Top 10 directors who produce the most popular movies are:"
   ]
  },
  {
   "cell_type": "code",
   "execution_count": 103,
   "metadata": {},
   "outputs": [
    {
     "data": {
      "text/html": [
       "<div>\n",
       "<style scoped>\n",
       "    .dataframe tbody tr th:only-of-type {\n",
       "        vertical-align: middle;\n",
       "    }\n",
       "\n",
       "    .dataframe tbody tr th {\n",
       "        vertical-align: top;\n",
       "    }\n",
       "\n",
       "    .dataframe thead th {\n",
       "        text-align: right;\n",
       "    }\n",
       "</style>\n",
       "<table border=\"1\" class=\"dataframe\">\n",
       "  <thead>\n",
       "    <tr style=\"text-align: right;\">\n",
       "      <th></th>\n",
       "      <th>popularity</th>\n",
       "    </tr>\n",
       "    <tr>\n",
       "      <th>director</th>\n",
       "      <th></th>\n",
       "    </tr>\n",
       "  </thead>\n",
       "  <tbody>\n",
       "    <tr>\n",
       "      <th>Colin Trevorrow</th>\n",
       "      <td>16.696886</td>\n",
       "    </tr>\n",
       "    <tr>\n",
       "      <th>David Leitch</th>\n",
       "      <td>11.422751</td>\n",
       "    </tr>\n",
       "    <tr>\n",
       "      <th>Chad Stahelski</th>\n",
       "      <td>11.422751</td>\n",
       "    </tr>\n",
       "    <tr>\n",
       "      <th>Alan Taylor</th>\n",
       "      <td>6.883129</td>\n",
       "    </tr>\n",
       "    <tr>\n",
       "      <th>Christopher Nolan</th>\n",
       "      <td>6.865185</td>\n",
       "    </tr>\n",
       "    <tr>\n",
       "      <th>Alex Garland</th>\n",
       "      <td>6.118847</td>\n",
       "    </tr>\n",
       "    <tr>\n",
       "      <th>Patrick Tatopoulos</th>\n",
       "      <td>5.806897</td>\n",
       "    </tr>\n",
       "    <tr>\n",
       "      <th>Wes Ball</th>\n",
       "      <td>5.553082</td>\n",
       "    </tr>\n",
       "    <tr>\n",
       "      <th>Dan Gilroy</th>\n",
       "      <td>5.522641</td>\n",
       "    </tr>\n",
       "    <tr>\n",
       "      <th>David Yates</th>\n",
       "      <td>5.126634</td>\n",
       "    </tr>\n",
       "  </tbody>\n",
       "</table>\n",
       "</div>"
      ],
      "text/plain": [
       "                    popularity\n",
       "director                      \n",
       "Colin Trevorrow      16.696886\n",
       "David Leitch         11.422751\n",
       "Chad Stahelski       11.422751\n",
       "Alan Taylor           6.883129\n",
       "Christopher Nolan     6.865185\n",
       "Alex Garland          6.118847\n",
       "Patrick Tatopoulos    5.806897\n",
       "Wes Ball              5.553082\n",
       "Dan Gilroy            5.522641\n",
       "David Yates           5.126634"
      ]
     },
     "execution_count": 103,
     "metadata": {},
     "output_type": "execute_result"
    }
   ],
   "source": [
    "# Top 10 directors with highest movies popularity\n",
    "top10_directors = pd.DataFrame(director_pop.head(10))\n",
    "top10_directors"
   ]
  },
  {
   "cell_type": "code",
   "execution_count": 104,
   "metadata": {},
   "outputs": [
    {
     "data": {
      "image/png": "[encoded data removed]",
      "text/plain": [
       "<Figure size 720x648 with 1 Axes>"
      ]
     },
     "metadata": {
      "needs_background": "light"
     },
     "output_type": "display_data"
    }
   ],
   "source": [
    "fig, ax = plt.subplots(figsize=(10, 9))\n",
    "top10_directors.plot.barh(ax=ax);\n",
    "plt.ylabel('Director')\n",
    "plt.xlabel('Popularity')\n",
    "plt.title('Top 10 Directors with higest movies popularity');"
   ]
  },
  {
   "cell_type": "code",
   "execution_count": null,
   "metadata": {},
   "outputs": [],
   "source": []
  },
  {
   "cell_type": "markdown",
   "metadata": {},
   "source": [
    "Report:"
   ]
  },
  {
   "cell_type": "markdown",
   "metadata": {},
   "source": [
    "###  Research Question 4\n",
    "- Which genres are most popular from year to year?"
   ]
  },
  {
   "cell_type": "code",
   "execution_count": 80,
   "metadata": {},
   "outputs": [],
   "source": [
    "yearly_popular_genre = value_occurences(df, 'genres', most_common=1)"
   ]
  },
  {
   "cell_type": "code",
   "execution_count": 81,
   "metadata": {},
   "outputs": [
    {
     "data": {
      "text/html": [
       "<div>\n",
       "<style scoped>\n",
       "    .dataframe tbody tr th:only-of-type {\n",
       "        vertical-align: middle;\n",
       "    }\n",
       "\n",
       "    .dataframe tbody tr th {\n",
       "        vertical-align: top;\n",
       "    }\n",
       "\n",
       "    .dataframe thead th {\n",
       "        text-align: right;\n",
       "    }\n",
       "</style>\n",
       "<table border=\"1\" class=\"dataframe\">\n",
       "  <thead>\n",
       "    <tr style=\"text-align: right;\">\n",
       "      <th></th>\n",
       "      <th>Year</th>\n",
       "      <th>Genres</th>\n",
       "      <th>Count</th>\n",
       "    </tr>\n",
       "  </thead>\n",
       "  <tbody>\n",
       "    <tr>\n",
       "      <th>0</th>\n",
       "      <td>1972</td>\n",
       "      <td>Drama</td>\n",
       "      <td>16</td>\n",
       "    </tr>\n",
       "    <tr>\n",
       "      <th>1</th>\n",
       "      <td>1973</td>\n",
       "      <td>Drama</td>\n",
       "      <td>31</td>\n",
       "    </tr>\n",
       "    <tr>\n",
       "      <th>2</th>\n",
       "      <td>1974</td>\n",
       "      <td>Drama</td>\n",
       "      <td>21</td>\n",
       "    </tr>\n",
       "    <tr>\n",
       "      <th>3</th>\n",
       "      <td>1975</td>\n",
       "      <td>Drama</td>\n",
       "      <td>17</td>\n",
       "    </tr>\n",
       "    <tr>\n",
       "      <th>4</th>\n",
       "      <td>1976</td>\n",
       "      <td>Drama</td>\n",
       "      <td>22</td>\n",
       "    </tr>\n",
       "    <tr>\n",
       "      <th>5</th>\n",
       "      <td>1977</td>\n",
       "      <td>Drama</td>\n",
       "      <td>23</td>\n",
       "    </tr>\n",
       "    <tr>\n",
       "      <th>6</th>\n",
       "      <td>1978</td>\n",
       "      <td>Drama</td>\n",
       "      <td>28</td>\n",
       "    </tr>\n",
       "    <tr>\n",
       "      <th>7</th>\n",
       "      <td>1979</td>\n",
       "      <td>Drama</td>\n",
       "      <td>30</td>\n",
       "    </tr>\n",
       "    <tr>\n",
       "      <th>8</th>\n",
       "      <td>1980</td>\n",
       "      <td>Drama</td>\n",
       "      <td>32</td>\n",
       "    </tr>\n",
       "    <tr>\n",
       "      <th>9</th>\n",
       "      <td>1981</td>\n",
       "      <td>Drama</td>\n",
       "      <td>32</td>\n",
       "    </tr>\n",
       "  </tbody>\n",
       "</table>\n",
       "</div>"
      ],
      "text/plain": [
       "   Year Genres Count\n",
       "0  1972  Drama    16\n",
       "1  1973  Drama    31\n",
       "2  1974  Drama    21\n",
       "3  1975  Drama    17\n",
       "4  1976  Drama    22\n",
       "5  1977  Drama    23\n",
       "6  1978  Drama    28\n",
       "7  1979  Drama    30\n",
       "8  1980  Drama    32\n",
       "9  1981  Drama    32"
      ]
     },
     "execution_count": 81,
     "metadata": {},
     "output_type": "execute_result"
    }
   ],
   "source": [
    "yearly_popular_genre.head(10)"
   ]
  },
  {
   "cell_type": "code",
   "execution_count": null,
   "metadata": {},
   "outputs": [
    {
     "data": {
      "text/plain": [
       "array(['Drama', 'Comedy'], dtype=object)"
      ]
     },
     "metadata": {},
     "output_type": "display_data"
    }
   ],
   "source": [
    "yearly_popular_genre['Genres'].unique()"
   ]
  },
  {
   "cell_type": "code",
   "execution_count": 87,
   "metadata": {},
   "outputs": [
    {
     "data": {
      "text/plain": [
       "(56, 3)"
      ]
     },
     "execution_count": 87,
     "metadata": {},
     "output_type": "execute_result"
    }
   ],
   "source": [
    "yearly_popular_genre.shape"
   ]
  },
  {
   "cell_type": "code",
   "execution_count": 86,
   "metadata": {},
   "outputs": [
    {
     "data": {
      "text/html": [
       "<div>\n",
       "<style scoped>\n",
       "    .dataframe tbody tr th:only-of-type {\n",
       "        vertical-align: middle;\n",
       "    }\n",
       "\n",
       "    .dataframe tbody tr th {\n",
       "        vertical-align: top;\n",
       "    }\n",
       "\n",
       "    .dataframe thead th {\n",
       "        text-align: right;\n",
       "    }\n",
       "</style>\n",
       "<table border=\"1\" class=\"dataframe\">\n",
       "  <thead>\n",
       "    <tr style=\"text-align: right;\">\n",
       "      <th></th>\n",
       "      <th>Year</th>\n",
       "      <th>Genres</th>\n",
       "      <th>Count</th>\n",
       "    </tr>\n",
       "  </thead>\n",
       "  <tbody>\n",
       "    <tr>\n",
       "      <th>12</th>\n",
       "      <td>1984</td>\n",
       "      <td>Comedy</td>\n",
       "      <td>37</td>\n",
       "    </tr>\n",
       "    <tr>\n",
       "      <th>13</th>\n",
       "      <td>1985</td>\n",
       "      <td>Comedy</td>\n",
       "      <td>50</td>\n",
       "    </tr>\n",
       "    <tr>\n",
       "      <th>15</th>\n",
       "      <td>1987</td>\n",
       "      <td>Comedy</td>\n",
       "      <td>53</td>\n",
       "    </tr>\n",
       "    <tr>\n",
       "      <th>16</th>\n",
       "      <td>1988</td>\n",
       "      <td>Comedy</td>\n",
       "      <td>65</td>\n",
       "    </tr>\n",
       "    <tr>\n",
       "      <th>17</th>\n",
       "      <td>1989</td>\n",
       "      <td>Comedy</td>\n",
       "      <td>59</td>\n",
       "    </tr>\n",
       "    <tr>\n",
       "      <th>22</th>\n",
       "      <td>1994</td>\n",
       "      <td>Comedy</td>\n",
       "      <td>83</td>\n",
       "    </tr>\n",
       "    <tr>\n",
       "      <th>29</th>\n",
       "      <td>2001</td>\n",
       "      <td>Comedy</td>\n",
       "      <td>89</td>\n",
       "    </tr>\n",
       "    <tr>\n",
       "      <th>31</th>\n",
       "      <td>2003</td>\n",
       "      <td>Comedy</td>\n",
       "      <td>102</td>\n",
       "    </tr>\n",
       "    <tr>\n",
       "      <th>50</th>\n",
       "      <td>1966</td>\n",
       "      <td>Comedy</td>\n",
       "      <td>15</td>\n",
       "    </tr>\n",
       "    <tr>\n",
       "      <th>51</th>\n",
       "      <td>1967</td>\n",
       "      <td>Comedy</td>\n",
       "      <td>16</td>\n",
       "    </tr>\n",
       "  </tbody>\n",
       "</table>\n",
       "</div>"
      ],
      "text/plain": [
       "    Year  Genres Count\n",
       "12  1984  Comedy    37\n",
       "13  1985  Comedy    50\n",
       "15  1987  Comedy    53\n",
       "16  1988  Comedy    65\n",
       "17  1989  Comedy    59\n",
       "22  1994  Comedy    83\n",
       "29  2001  Comedy    89\n",
       "31  2003  Comedy   102\n",
       "50  1966  Comedy    15\n",
       "51  1967  Comedy    16"
      ]
     },
     "execution_count": 86,
     "metadata": {},
     "output_type": "execute_result"
    }
   ],
   "source": [
    "yearly_popular_genre.query('Genres == \"Comedy\"')"
   ]
  },
  {
   "cell_type": "code",
   "execution_count": null,
   "metadata": {},
   "outputs": [],
   "source": []
  },
  {
   "cell_type": "markdown",
   "metadata": {},
   "source": [
    "### Research Question 5\n",
    "- Which key words attract more popularity?"
   ]
  },
  {
   "cell_type": "code",
   "execution_count": 105,
   "metadata": {},
   "outputs": [],
   "source": [
    "# Key word with high popularity\n",
    "keyword_pop = spilldown('keywords')"
   ]
  },
  {
   "cell_type": "code",
   "execution_count": 107,
   "metadata": {},
   "outputs": [
    {
     "data": {
      "text/plain": [
       "keywords\n",
       "velociraptor                11.121115\n",
       "nihilism                     8.947905\n",
       "scene during end credits     7.963322\n",
       "space colony                 7.460604\n",
       "evil mastermind              7.404165\n",
       "middle-earth (tolkien)       7.082911\n",
       "times square                 6.907148\n",
       "descendant                   6.887883\n",
       "death star                   6.207928\n",
       "lightsaber                   6.174727\n",
       "Name: popularity, dtype: float64"
      ]
     },
     "execution_count": 107,
     "metadata": {},
     "output_type": "execute_result"
    }
   ],
   "source": [
    "# Top 10 keywords that attract more popularity\n",
    "top10_keywords = keyword_pop.head(10)\n",
    "top10_keywords"
   ]
  },
  {
   "cell_type": "code",
   "execution_count": 114,
   "metadata": {},
   "outputs": [
    {
     "data": {
      "image/png": "[encoded data removed]",
      "text/plain": [
       "<Figure size 720x576 with 1 Axes>"
      ]
     },
     "metadata": {
      "needs_background": "light"
     },
     "output_type": "display_data"
    }
   ],
   "source": [
    "top10_keywords.plot.barh(figsize=(10, 8))\n",
    "plt.title('Top 10 keywords that attract more popularity')\n",
    "plt.xlabel('Popularity');"
   ]
  },
  {
   "cell_type": "markdown",
   "metadata": {},
   "source": [
    "Report:"
   ]
  },
  {
   "cell_type": "markdown",
   "metadata": {},
   "source": [
    "### Research Question 6\n",
    "\n",
    "Which Genres has the:\n",
    "- Highest vote count\n",
    "- Lowest vote count"
   ]
  },
  {
   "cell_type": "code",
   "execution_count": 116,
   "metadata": {},
   "outputs": [],
   "source": [
    "genres_vote_count = spilldown(column='genres', include='vote_count')"
   ]
  },
  {
   "cell_type": "code",
   "execution_count": 119,
   "metadata": {},
   "outputs": [
    {
     "data": {
      "text/html": [
       "<div>\n",
       "<style scoped>\n",
       "    .dataframe tbody tr th:only-of-type {\n",
       "        vertical-align: middle;\n",
       "    }\n",
       "\n",
       "    .dataframe tbody tr th {\n",
       "        vertical-align: top;\n",
       "    }\n",
       "\n",
       "    .dataframe thead th {\n",
       "        text-align: right;\n",
       "    }\n",
       "</style>\n",
       "<table border=\"1\" class=\"dataframe\">\n",
       "  <thead>\n",
       "    <tr style=\"text-align: right;\">\n",
       "      <th></th>\n",
       "      <th>vote_count</th>\n",
       "    </tr>\n",
       "    <tr>\n",
       "      <th>genres</th>\n",
       "      <th></th>\n",
       "    </tr>\n",
       "  </thead>\n",
       "  <tbody>\n",
       "    <tr>\n",
       "      <th>Adventure</th>\n",
       "      <td>543.687861</td>\n",
       "    </tr>\n",
       "    <tr>\n",
       "      <th>Science Fiction</th>\n",
       "      <td>470.790677</td>\n",
       "    </tr>\n",
       "    <tr>\n",
       "      <th>Fantasy</th>\n",
       "      <td>456.454762</td>\n",
       "    </tr>\n",
       "    <tr>\n",
       "      <th>Action</th>\n",
       "      <td>417.505814</td>\n",
       "    </tr>\n",
       "    <tr>\n",
       "      <th>Animation</th>\n",
       "      <td>339.369530</td>\n",
       "    </tr>\n",
       "    <tr>\n",
       "      <th>Family</th>\n",
       "      <td>302.833790</td>\n",
       "    </tr>\n",
       "    <tr>\n",
       "      <th>Crime</th>\n",
       "      <td>289.500769</td>\n",
       "    </tr>\n",
       "    <tr>\n",
       "      <th>War</th>\n",
       "      <td>282.484496</td>\n",
       "    </tr>\n",
       "    <tr>\n",
       "      <th>Thriller</th>\n",
       "      <td>269.256644</td>\n",
       "    </tr>\n",
       "    <tr>\n",
       "      <th>Mystery</th>\n",
       "      <td>247.304010</td>\n",
       "    </tr>\n",
       "  </tbody>\n",
       "</table>\n",
       "</div>"
      ],
      "text/plain": [
       "                 vote_count\n",
       "genres                     \n",
       "Adventure        543.687861\n",
       "Science Fiction  470.790677\n",
       "Fantasy          456.454762\n",
       "Action           417.505814\n",
       "Animation        339.369530\n",
       "Family           302.833790\n",
       "Crime            289.500769\n",
       "War              282.484496\n",
       "Thriller         269.256644\n",
       "Mystery          247.304010"
      ]
     },
     "execution_count": 119,
     "metadata": {},
     "output_type": "execute_result"
    }
   ],
   "source": [
    "# Top 10 Genres vote count\n",
    "top10_gen_votecount = pd.DataFrame(genres_vote_count.head(10))\n",
    "top10_gen_votecount"
   ]
  },
  {
   "cell_type": "code",
   "execution_count": 129,
   "metadata": {},
   "outputs": [],
   "source": [
    "def genre_visual_votecount(val, title):\n",
    "    \"\"\"\n",
    "        Function to display the genres that attract more vote count.\n",
    "        \n",
    "    \"\"\"\n",
    "    val.plot.barh(figsize=(8, 8))\n",
    "    plt.xlabel('Vote count mean')\n",
    "    plt.title(title);\n"
   ]
  },
  {
   "cell_type": "code",
   "execution_count": 130,
   "metadata": {},
   "outputs": [
    {
     "data": {
      "image/png": "[encoded data removed]",
      "text/plain": [
       "<Figure size 576x576 with 1 Axes>"
      ]
     },
     "metadata": {
      "needs_background": "light"
     },
     "output_type": "display_data"
    }
   ],
   "source": [
    "genre_visual_votecount(top10_gen_votecount, 'Top 10 Genres votecount')"
   ]
  },
  {
   "cell_type": "code",
   "execution_count": 131,
   "metadata": {},
   "outputs": [],
   "source": [
    "least_gen_votecount = genres_vote_count.tail(10)"
   ]
  },
  {
   "cell_type": "code",
   "execution_count": 125,
   "metadata": {},
   "outputs": [
    {
     "data": {
      "text/plain": [
       "genres\n",
       "Western        211.737500\n",
       "History        198.529412\n",
       "Drama          197.167698\n",
       "Comedy         192.646665\n",
       "Romance        179.086624\n",
       "Music          145.138643\n",
       "Horror         127.462647\n",
       "Documentary     43.968454\n",
       "TV Movie        38.477273\n",
       "Foreign         17.266667\n",
       "Name: vote_count, dtype: float64"
      ]
     },
     "execution_count": 125,
     "metadata": {},
     "output_type": "execute_result"
    }
   ],
   "source": [
    "least_gen_votecount"
   ]
  },
  {
   "cell_type": "code",
   "execution_count": 132,
   "metadata": {},
   "outputs": [
    {
     "data": {
      "image/png": "[encoded data removed]",
      "text/plain": [
       "<Figure size 576x576 with 1 Axes>"
      ]
     },
     "metadata": {
      "needs_background": "light"
     },
     "output_type": "display_data"
    }
   ],
   "source": [
    "genre_visual_votecount(least_gen_votecount, \"Genres with lowest vote count\")"
   ]
  },
  {
   "cell_type": "markdown",
   "metadata": {},
   "source": [
    "Report:"
   ]
  },
  {
   "cell_type": "markdown",
   "metadata": {},
   "source": [
    "### Research Question 7\n",
    "- Which year has the most movie released?"
   ]
  },
  {
   "cell_type": "code",
   "execution_count": null,
   "metadata": {},
   "outputs": [],
   "source": []
  },
  {
   "cell_type": "code",
   "execution_count": null,
   "metadata": {},
   "outputs": [],
   "source": []
  },
  {
   "cell_type": "code",
   "execution_count": null,
   "metadata": {},
   "outputs": [],
   "source": []
  },
  {
   "cell_type": "code",
   "execution_count": null,
   "metadata": {},
   "outputs": [],
   "source": []
  },
  {
   "cell_type": "code",
   "execution_count": null,
   "metadata": {},
   "outputs": [],
   "source": []
  },
  {
   "cell_type": "markdown",
   "metadata": {},
   "source": [
    "<a id='conclusions'></a>\n",
    "## Conclusions\n",
    "\n",
    "> **Tip**: Finally, summarize your findings and the results that have been performed. Make sure that you are clear with regards to the limitations of your exploration. If you haven't done any statistical tests, do not imply any statistical conclusions. And make sure you avoid implying causation from correlation!\n",
    "\n",
    "> **Tip**: Once you are satisfied with your work, you should save a copy of the report in HTML or PDF form via the **File** > **Download as** submenu. Before exporting your report, check over it to make sure that the flow of the report is complete. You should probably remove all of the \"Tip\" quotes like this one so that the presentation is as tidy as possible. Congratulations!"
   ]
  },
  {
   "cell_type": "code",
   "execution_count": null,
   "metadata": {
    "collapsed": true
   },
   "outputs": [],
   "source": []
  }
 ],
 "metadata": {
  "kernelspec": {
   "display_name": "Python 3.10.0 64-bit",
   "language": "python",
   "name": "python3"
  },
  "language_info": {
   "codemirror_mode": {
    "name": "ipython",
    "version": 3
   },
   "file_extension": ".py",
   "mimetype": "text/x-python",
   "name": "python",
   "nbconvert_exporter": "python",
   "pygments_lexer": "ipython3",
   "version": "3.10.0"
  },
  "vscode": {
   "interpreter": {
    "hash": "a9cff5a362bc38ef45d817ae74b1af54d6a076e3d773891282bce078b815ba34"
   }
  }
 },
 "nbformat": 4,
 "nbformat_minor": 2
}
